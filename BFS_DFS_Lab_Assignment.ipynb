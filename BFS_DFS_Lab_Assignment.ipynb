{
  "nbformat": 4,
  "nbformat_minor": 0,
  "metadata": {
    "colab": {
      "provenance": [],
      "collapsed_sections": [
        "xXhF7Q_fiQTZ"
      ]
    },
    "kernelspec": {
      "name": "python3",
      "display_name": "Python 3"
    },
    "language_info": {
      "name": "python"
    }
  },
  "cells": [
    {
      "cell_type": "markdown",
      "source": [
        "\n",
        "### BFS and DFS on Trees and Graphs\n",
        "In this notebook, we will implement Breadth-First Search (BFS) and Depth-First Search (DFS) on a tree and a graph.\n"
      ],
      "metadata": {
        "id": "xXhF7Q_fiQTZ"
      }
    },
    {
      "cell_type": "markdown",
      "source": [
        "Tree BFS and DFS Code:"
      ],
      "metadata": {
        "id": "XnMPUfg_k68v"
      }
    },
    {
      "cell_type": "code",
      "source": [
        "# Tree (Using Dictionary)\n",
        "tree = {\n",
        "    'A': ['B', 'C'],\n",
        "    'B': ['D', 'E'],\n",
        "    'C': ['F'],\n",
        "    'D': [],\n",
        "    'E': [],\n",
        "    'F': []\n",
        "}\n",
        "\n",
        "# DFS for Tree\n",
        "def dfs_tree(node, visited=set()):\n",
        "    if node not in visited:\n",
        "        print(node, end=' ')\n",
        "        visited.add(node)\n",
        "        for child in tree[node]:\n",
        "            dfs_tree(child, visited)\n",
        "\n",
        "print(\"DFS on Tree:\")\n",
        "dfs_tree('A')\n"
      ],
      "metadata": {
        "colab": {
          "base_uri": "https://localhost:8080/"
        },
        "id": "bh1iA5wbkn0r",
        "outputId": "dfd5d737-0299-46a2-e8c8-4e6d3435424c"
      },
      "execution_count": 2,
      "outputs": [
        {
          "output_type": "stream",
          "name": "stdout",
          "text": [
            "DFS on Tree:\n",
            "A B D E C F "
          ]
        }
      ]
    },
    {
      "cell_type": "markdown",
      "source": [
        "Tree BFS Code:"
      ],
      "metadata": {
        "id": "GZIcOXvGk2sP"
      }
    },
    {
      "cell_type": "code",
      "source": [
        "from collections import deque\n",
        "\n",
        "# BFS for Tree\n",
        "def bfs_tree(start):\n",
        "    visited = set()\n",
        "    queue = deque([start])\n",
        "\n",
        "    while queue:\n",
        "        node = queue.popleft()\n",
        "        if node not in visited:\n",
        "            print(node, end=' ')\n",
        "            visited.add(node)\n",
        "            queue.extend(tree[node])\n",
        "\n",
        "print(\"\\nBFS on Tree:\")\n",
        "bfs_tree('A')\n"
      ],
      "metadata": {
        "colab": {
          "base_uri": "https://localhost:8080/"
        },
        "id": "Q28ya8vVktA2",
        "outputId": "8c1a7886-9eb1-4881-d502-eff3733284ff"
      },
      "execution_count": 3,
      "outputs": [
        {
          "output_type": "stream",
          "name": "stdout",
          "text": [
            "\n",
            "BFS on Tree:\n",
            "A B C D E F "
          ]
        }
      ]
    },
    {
      "cell_type": "markdown",
      "source": [
        "Graph DFS Code:"
      ],
      "metadata": {
        "id": "_F2R2ar-kxa0"
      }
    },
    {
      "cell_type": "code",
      "source": [
        "# Graph (can have cycles)\n",
        "graph = {\n",
        "    '1': ['2', '3'],\n",
        "    '2': ['1', '4'],\n",
        "    '3': ['1', '4'],\n",
        "    '4': ['2', '3']\n",
        "}\n",
        "\n",
        "# DFS for Graph\n",
        "def dfs_graph(node, visited=set()):\n",
        "    if node not in visited:\n",
        "        print(node, end=' ')\n",
        "        visited.add(node)\n",
        "        for neighbor in graph[node]:\n",
        "            dfs_graph(neighbor, visited)\n",
        "\n",
        "print(\"DFS on Graph:\")\n",
        "dfs_graph('1')\n"
      ],
      "metadata": {
        "colab": {
          "base_uri": "https://localhost:8080/"
        },
        "id": "pXr4QwPNk_As",
        "outputId": "34e74eba-03ac-4b92-9e87-6502ecc3d817"
      },
      "execution_count": 4,
      "outputs": [
        {
          "output_type": "stream",
          "name": "stdout",
          "text": [
            "DFS on Graph:\n",
            "1 2 4 3 "
          ]
        }
      ]
    },
    {
      "cell_type": "markdown",
      "source": [
        "Graph BFS Code"
      ],
      "metadata": {
        "id": "A_VQeTj8lC42"
      }
    },
    {
      "cell_type": "code",
      "source": [
        "# BFS for Graph\n",
        "def bfs_graph(start):\n",
        "    visited = set()\n",
        "    queue = deque([start])\n",
        "\n",
        "    while queue:\n",
        "        node = queue.popleft()\n",
        "        if node not in visited:\n",
        "            print(node, end=' ')\n",
        "            visited.add(node)\n",
        "            queue.extend(graph[node])\n",
        "\n",
        "print(\"\\nBFS on Graph:\")\n",
        "bfs_graph('1')\n"
      ],
      "metadata": {
        "colab": {
          "base_uri": "https://localhost:8080/"
        },
        "id": "VihMTtYXlE1q",
        "outputId": "f862e0af-0531-4cbd-ac18-f6adfcacc2a5"
      },
      "execution_count": 5,
      "outputs": [
        {
          "output_type": "stream",
          "name": "stdout",
          "text": [
            "\n",
            "BFS on Graph:\n",
            "1 2 3 4 "
          ]
        }
      ]
    },
    {
      "cell_type": "markdown",
      "source": [
        "# task 2"
      ],
      "metadata": {
        "id": "X9RIYjcUsFo-"
      }
    },
    {
      "cell_type": "code",
      "source": [
        "import random\n",
        "import time\n",
        "import pandas as pd\n",
        "import matplotlib.pyplot as plt\n",
        "\n",
        "# Function to generate a random list of numbers for each range\n",
        "def generate_random_list(size):\n",
        "    return random.sample(range(1, size * 10), size)\n",
        "\n",
        "# Binary Search Tree Node\n",
        "class TreeNode:\n",
        "    def __init__(self, key):\n",
        "        self.left = None\n",
        "        self.right = None\n",
        "        self.value = key\n",
        "\n",
        "# Function to insert nodes into the Binary Search Tree\n",
        "def insert(root, key):\n",
        "    if root is None:\n",
        "        return TreeNode(key)\n",
        "    else:\n",
        "        if key < root.value:\n",
        "            root.left = insert(root.left, key)\n",
        "        else:\n",
        "            root.right = insert(root.right, key)\n",
        "    return root\n",
        "\n",
        "# Function to perform Depth First Search (DFS)\n",
        "def dfs(root, goal):\n",
        "    if root is None:\n",
        "        return None\n",
        "    if root.value == goal:\n",
        "        return root\n",
        "    elif goal < root.value:\n",
        "        return dfs(root.left, goal)\n",
        "    else:\n",
        "        return dfs(root.right, goal)\n",
        "\n",
        "# Function to perform Breadth First Search (BFS)\n",
        "def bfs(root, goal):\n",
        "    if root is None:\n",
        "        return None\n",
        "    queue = [root]\n",
        "    while queue:\n",
        "        node = queue.pop(0)\n",
        "        if node.value == goal:\n",
        "            return node\n",
        "        if node.left:\n",
        "            queue.append(node.left)\n",
        "        if node.right:\n",
        "            queue.append(node.right)\n",
        "    return None\n",
        "\n",
        "# Define the sizes for each set\n",
        "sizes = [1000, 40000, 80000, 200000, 1000000]\n",
        "\n",
        "# DataFrame to store results\n",
        "results = []\n",
        "\n",
        "# Generate the data and trees for each size\n",
        "for size in sizes:\n",
        "    # Generate the list of random numbers\n",
        "    random_list = generate_random_list(size)\n",
        "\n",
        "    # Create the tree by inserting each element into the BST\n",
        "    root = None\n",
        "    for num in random_list:\n",
        "        root = insert(root, num)\n",
        "\n",
        "    # Define the goal as the element at total_len - 220\n",
        "    goal = random_list[size - 220]\n",
        "\n",
        "    # Perform BFS and measure time taken\n",
        "    start_time = time.time()\n",
        "    bfs_result = bfs(root, goal)\n",
        "    bfs_time = time.time() - start_time\n",
        "\n",
        "    # Perform DFS and measure time taken\n",
        "    start_time = time.time()\n",
        "    dfs_result = dfs(root, goal)\n",
        "    dfs_time = time.time() - start_time\n",
        "\n",
        "    # Store the results for this set\n",
        "    results.append({\n",
        "        \"Size\": size,\n",
        "        \"BFS Time\": bfs_time,\n",
        "        \"DFS Time\": dfs_time\n",
        "    })\n",
        "\n",
        "# Create a DataFrame from the results\n",
        "df = pd.DataFrame(results)\n",
        "\n",
        "# Plotting the bar chart\n",
        "plt.figure(figsize=(10,6))\n",
        "bar_width = 0.35\n",
        "index = range(len(sizes))\n",
        "\n",
        "fig, ax = plt.subplots()\n",
        "bar_bfs = ax.bar(index, df['BFS Time'], bar_width, label='BFS Time')\n",
        "bar_dfs = ax.bar([i + bar_width for i in index], df['DFS Time'], bar_width, label='DFS Time')\n",
        "\n",
        "ax.set_xlabel('Data Size')\n",
        "ax.set_ylabel('Time (seconds)')\n",
        "ax.set_title('Time Taken for BFS and DFS on Different Data Set Sizes')\n",
        "ax.set_xticks([i + bar_width / 2 for i in index])\n",
        "ax.set_xticklabels(sizes)\n",
        "ax.legend()\n",
        "\n",
        "plt.show()\n",
        "\n",
        "# Print the results DataFrame\n",
        "print(df)\n",
        "\n",
        "\n"
      ],
      "metadata": {
        "colab": {
          "base_uri": "https://localhost:8080/",
          "height": 593
        },
        "id": "42HkD-IctWM8",
        "outputId": "0ba4f2a0-b95b-4140-9a9a-4e541a6b9cb2"
      },
      "execution_count": 14,
      "outputs": [
        {
          "output_type": "display_data",
          "data": {
            "text/plain": [
              "<Figure size 1000x600 with 0 Axes>"
            ]
          },
          "metadata": {}
        },
        {
          "output_type": "display_data",
          "data": {
            "text/plain": [
              "<Figure size 640x480 with 1 Axes>"
            ],
            "image/png": "[encoded data removed]"
          },
          "metadata": {}
        },
        {
          "output_type": "stream",
          "name": "stdout",
          "text": [
            "      Size  BFS Time  DFS Time\n",
            "0     1000  0.000313  0.000005\n",
            "1    40000  0.014983  0.000011\n",
            "2    80000  0.111559  0.000020\n",
            "3   200000  0.173747  0.000029\n",
            "4  1000000  9.134624  0.000024\n"
          ]
        }
      ]
    },
    {
      "cell_type": "markdown",
      "source": [
        "# task 3"
      ],
      "metadata": {
        "id": "-kkKITBpuTPt"
      }
    },
    {
      "cell_type": "code",
      "source": [
        "from collections import deque\n",
        "\n",
        "# Define the graph using an adjacency list\n",
        "graph = {\n",
        "    \"Islamabad\": [\"Rawalpindi\", \"Lahore\", \"Peshawar\"],\n",
        "    \"Rawalpindi\": [\"Islamabad\", \"Peshawar\", \"Quetta\"],\n",
        "    \"Peshawar\": [\"Islamabad\", \"Rawalpindi\", \"Quetta\"],\n",
        "    \"Lahore\": [\"Islamabad\", \"Multan\", \"Quetta\"],\n",
        "    \"Multan\": [\"Lahore\", \"Karachi\", \"Quetta\"],\n",
        "    \"Quetta\": [\"Rawalpindi\", \"Peshawar\", \"Multan\", \"Karachi\"],\n",
        "    \"Karachi\": [\"Multan\", \"Quetta\"]\n",
        "}\n",
        "\n",
        "# BFS Function to find the shortest path\n",
        "def bfs_shortest_path(graph, start, goal):\n",
        "    # Queue to keep track of the current path\n",
        "    queue = deque([(start, [start])])  # Each element is a tuple (city, path)\n",
        "\n",
        "    # Set to keep track of visited cities\n",
        "    visited = set([start])\n",
        "\n",
        "    while queue:\n",
        "        # Pop the city and path from the front of the queue\n",
        "        current_city, path = queue.popleft()\n",
        "\n",
        "        # If the goal city is reached, return the path\n",
        "        if current_city == goal:\n",
        "            return path\n",
        "\n",
        "        # Visit each connected city\n",
        "        for neighbor in graph[current_city]:\n",
        "            if neighbor not in visited:\n",
        "                visited.add(neighbor)\n",
        "                queue.append((neighbor, path + [neighbor]))  # Append the new path\n",
        "\n",
        "    return None  # If there's no path found\n",
        "\n",
        "# Finding the shortest path from Islamabad to Karachi\n",
        "start_city = \"Islamabad\"\n",
        "goal_city = \"Karachi\"\n",
        "shortest_path = bfs_shortest_path(graph, start_city, goal_city)\n",
        "\n",
        "# Output the result\n",
        "if shortest_path:\n",
        "    print(\"Shortest path from\", start_city, \"to\", goal_city, \":\", \" -> \".join(shortest_path))\n",
        "else:\n",
        "    print(\"No path found from\", start_city, \"to\", goal_city)\n"
      ],
      "metadata": {
        "colab": {
          "base_uri": "https://localhost:8080/"
        },
        "id": "eqwz2CmixtMt",
        "outputId": "5c586ae1-b83e-44c5-c1fc-ddd6317c35ec"
      },
      "execution_count": 19,
      "outputs": [
        {
          "output_type": "stream",
          "name": "stdout",
          "text": [
            "Shortest path from Islamabad to Karachi : Islamabad -> Rawalpindi -> Quetta -> Karachi\n"
          ]
        }
      ]
    }
  ]
}