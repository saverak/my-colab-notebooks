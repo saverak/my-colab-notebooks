{
  "nbformat": 4,
  "nbformat_minor": 0,
  "metadata": {
    "colab": {
      "provenance": [],
      "authorship_tag": "ABX9TyPw7Z4HOdKD3vuZz3Xfa7lA",
      "include_colab_link": true
    },
    "kernelspec": {
      "name": "python3",
      "display_name": "Python 3"
    },
    "language_info": {
      "name": "python"
    }
  },
  "cells": [
    {
      "cell_type": "markdown",
      "metadata": {
        "id": "view-in-github",
        "colab_type": "text"
      },
      "source": [
        "<a href=\"https://colab.research.google.com/github/saverak/my-colab-notebooks/blob/main/taskcsp.ipynb\" target=\"_parent\"><img src=\"https://colab.research.google.com/assets/colab-badge.svg\" alt=\"Open In Colab\"/></a>"
      ]
    },
    {
      "cell_type": "code",
      "execution_count": 2,
      "metadata": {
        "id": "4ayoPEP4afUU"
      },
      "outputs": [],
      "source": [
        "# Australian Map Coloring using Backtracking\n",
        "\n",
        "# Define the problem\n",
        "variables = ['WA', 'NT', 'SA', 'QLD', 'NSW', 'VIC', 'TAS']\n",
        "colors = ['R', 'G', 'B']\n",
        "adjacency = {\n",
        "    'WA': ['NT', 'SA'],\n",
        "    'NT': ['WA', 'SA', 'QLD'],\n",
        "    'SA': ['WA', 'NT', 'QLD', 'NSW', 'VIC'],\n",
        "    'QLD': ['NT', 'SA', 'NSW'],\n",
        "    'NSW': ['SA', 'QLD', 'VIC'],\n",
        "    'VIC': ['SA', 'NSW'],\n",
        "    'TAS': []\n",
        "}\n",
        "\n",
        "# Backtracking function\n",
        "def is_valid(assignment, var, color):\n",
        "    for neighbor in adjacency[var]:\n",
        "        if neighbor in assignment and assignment[neighbor] == color:\n",
        "            return False\n",
        "    return True\n",
        "\n",
        "def backtrack(assignment):\n",
        "    if len(assignment) == len(variables):\n",
        "        return assignment\n",
        "\n",
        "    # Select unassigned variable\n",
        "    unassigned = [v for v in variables if v not in assignment]\n",
        "    var = unassigned[0]\n",
        "\n",
        "    for color in colors:\n",
        "        if is_valid(assignment, var, color):\n",
        "            assignment[var] = color\n",
        "            result = backtrack(assignment)\n",
        "            if result:\n",
        "                return result\n",
        "            del assignment[var]\n",
        "    return None\n",
        "\n",
        "\n",
        "\n",
        "\n"
      ]
    },
    {
      "cell_type": "code",
      "source": [
        "solution = backtrack({})\n",
        "if solution:\n",
        "    print(\"Solution found:\")\n",
        "    for region in variables:\n",
        "        print(f\"{region}: {solution[region]}\")\n",
        "else:\n",
        "    print(\"No solution found.\")\n"
      ],
      "metadata": {
        "colab": {
          "base_uri": "https://localhost:8080/"
        },
        "id": "cr8KKKIPayDB",
        "outputId": "aee15032-79dd-4990-a098-de7a028c420d"
      },
      "execution_count": 3,
      "outputs": [
        {
          "output_type": "stream",
          "name": "stdout",
          "text": [
            "Solution found:\n",
            "WA: R\n",
            "NT: G\n",
            "SA: B\n",
            "QLD: R\n",
            "NSW: G\n",
            "VIC: R\n",
            "TAS: R\n"
          ]
        }
      ]
    }
  ]
}